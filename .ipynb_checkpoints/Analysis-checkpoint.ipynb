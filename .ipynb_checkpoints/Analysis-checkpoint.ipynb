{
 "cells": [
  {
   "cell_type": "code",
   "execution_count": 1,
   "id": "ebadd5de",
   "metadata": {},
   "outputs": [],
   "source": [
    "import numpy as np\n",
    "import pandas as pd"
   ]
  },
  {
   "cell_type": "code",
   "execution_count": 2,
   "id": "cae17f97",
   "metadata": {},
   "outputs": [],
   "source": [
    "df=pd.read_csv('wwe belts.csv')"
   ]
  },
  {
   "cell_type": "code",
   "execution_count": 3,
   "id": "3b5cd760",
   "metadata": {},
   "outputs": [
    {
     "data": {
      "text/html": [
       "<div>\n",
       "<style scoped>\n",
       "    .dataframe tbody tr th:only-of-type {\n",
       "        vertical-align: middle;\n",
       "    }\n",
       "\n",
       "    .dataframe tbody tr th {\n",
       "        vertical-align: top;\n",
       "    }\n",
       "\n",
       "    .dataframe thead th {\n",
       "        text-align: right;\n",
       "    }\n",
       "</style>\n",
       "<table border=\"1\" class=\"dataframe\">\n",
       "  <thead>\n",
       "    <tr style=\"text-align: right;\">\n",
       "      <th></th>\n",
       "      <th>Unnamed: 0</th>\n",
       "      <th>Name_of_Belt</th>\n",
       "      <th>Actual_Price</th>\n",
       "      <th>Save</th>\n",
       "      <th>Current_Price</th>\n",
       "    </tr>\n",
       "  </thead>\n",
       "  <tbody>\n",
       "    <tr>\n",
       "      <th>0</th>\n",
       "      <td>0</td>\n",
       "      <td>WWE Winged Eagle Championship Replica Title Belt</td>\n",
       "      <td>$429.99$42999</td>\n",
       "      <td>$107.50$10750</td>\n",
       "      <td>$322.49$32249</td>\n",
       "    </tr>\n",
       "    <tr>\n",
       "      <th>1</th>\n",
       "      <td>1</td>\n",
       "      <td>WWE World Heavyweight Championship Retro Repli...</td>\n",
       "      <td>$429.99$42999</td>\n",
       "      <td>$107.50$10750</td>\n",
       "      <td>$322.49$32249</td>\n",
       "    </tr>\n",
       "    <tr>\n",
       "      <th>2</th>\n",
       "      <td>2</td>\n",
       "      <td>WWE World Heavyweight Championship Replica Tit...</td>\n",
       "      <td>Actual Price Not Found</td>\n",
       "      <td>Savings Not Found</td>\n",
       "      <td>$499.99$49999</td>\n",
       "    </tr>\n",
       "    <tr>\n",
       "      <th>3</th>\n",
       "      <td>3</td>\n",
       "      <td>WWE Championship Spinner Replica Title Belt</td>\n",
       "      <td>$499.99$49999</td>\n",
       "      <td>$125.00$12500</td>\n",
       "      <td>$374.99$37499</td>\n",
       "    </tr>\n",
       "    <tr>\n",
       "      <th>4</th>\n",
       "      <td>4</td>\n",
       "      <td>WWE Championship Replica Title Belt</td>\n",
       "      <td>$449.99$44999</td>\n",
       "      <td>$141.25$14125</td>\n",
       "      <td>$308.74$30874</td>\n",
       "    </tr>\n",
       "    <tr>\n",
       "      <th>...</th>\n",
       "      <td>...</td>\n",
       "      <td>...</td>\n",
       "      <td>...</td>\n",
       "      <td>...</td>\n",
       "      <td>...</td>\n",
       "    </tr>\n",
       "    <tr>\n",
       "      <th>67</th>\n",
       "      <td>67</td>\n",
       "      <td>Universal Championship Replica Title Belt</td>\n",
       "      <td>$429.99$42999</td>\n",
       "      <td>$213.40$21340</td>\n",
       "      <td>$216.59$21659</td>\n",
       "    </tr>\n",
       "    <tr>\n",
       "      <th>68</th>\n",
       "      <td>68</td>\n",
       "      <td>WWE Championship Spinner Mini Replica Title Belt</td>\n",
       "      <td>$69.99$6999</td>\n",
       "      <td>$17.50$1750</td>\n",
       "      <td>$52.49$5249</td>\n",
       "    </tr>\n",
       "    <tr>\n",
       "      <th>69</th>\n",
       "      <td>69</td>\n",
       "      <td>Boston Red Sox WWE Legacy Title Belt</td>\n",
       "      <td>$549.99$54999</td>\n",
       "      <td>$137.50$13750</td>\n",
       "      <td>$412.49$41249</td>\n",
       "    </tr>\n",
       "    <tr>\n",
       "      <th>70</th>\n",
       "      <td>70</td>\n",
       "      <td>Kane Signature Series Championship Replica Tit...</td>\n",
       "      <td>$499.99$49999</td>\n",
       "      <td>$189.35$18935</td>\n",
       "      <td>$310.64$31064</td>\n",
       "    </tr>\n",
       "    <tr>\n",
       "      <th>71</th>\n",
       "      <td>71</td>\n",
       "      <td>Buffalo Bills WWE Legacy Title Belt</td>\n",
       "      <td>Actual Price Not Found</td>\n",
       "      <td>Savings Not Found</td>\n",
       "      <td>$549.99$54999</td>\n",
       "    </tr>\n",
       "  </tbody>\n",
       "</table>\n",
       "<p>72 rows × 5 columns</p>\n",
       "</div>"
      ],
      "text/plain": [
       "    Unnamed: 0                                       Name_of_Belt  \\\n",
       "0            0   WWE Winged Eagle Championship Replica Title Belt   \n",
       "1            1  WWE World Heavyweight Championship Retro Repli...   \n",
       "2            2  WWE World Heavyweight Championship Replica Tit...   \n",
       "3            3        WWE Championship Spinner Replica Title Belt   \n",
       "4            4                WWE Championship Replica Title Belt   \n",
       "..         ...                                                ...   \n",
       "67          67          Universal Championship Replica Title Belt   \n",
       "68          68   WWE Championship Spinner Mini Replica Title Belt   \n",
       "69          69               Boston Red Sox WWE Legacy Title Belt   \n",
       "70          70  Kane Signature Series Championship Replica Tit...   \n",
       "71          71                Buffalo Bills WWE Legacy Title Belt   \n",
       "\n",
       "              Actual_Price               Save  Current_Price  \n",
       "0            $429.99$42999      $107.50$10750  $322.49$32249  \n",
       "1            $429.99$42999      $107.50$10750  $322.49$32249  \n",
       "2   Actual Price Not Found  Savings Not Found  $499.99$49999  \n",
       "3            $499.99$49999      $125.00$12500  $374.99$37499  \n",
       "4            $449.99$44999      $141.25$14125  $308.74$30874  \n",
       "..                     ...                ...            ...  \n",
       "67           $429.99$42999      $213.40$21340  $216.59$21659  \n",
       "68             $69.99$6999        $17.50$1750    $52.49$5249  \n",
       "69           $549.99$54999      $137.50$13750  $412.49$41249  \n",
       "70           $499.99$49999      $189.35$18935  $310.64$31064  \n",
       "71  Actual Price Not Found  Savings Not Found  $549.99$54999  \n",
       "\n",
       "[72 rows x 5 columns]"
      ]
     },
     "execution_count": 3,
     "metadata": {},
     "output_type": "execute_result"
    }
   ],
   "source": [
    "df"
   ]
  },
  {
   "cell_type": "code",
   "execution_count": 4,
   "id": "5743b120",
   "metadata": {},
   "outputs": [],
   "source": [
    "df.replace('Actual Price Not Found','$0$',inplace=True)\n",
    "df.replace('Savings Not Found','$0$',inplace=True)"
   ]
  },
  {
   "cell_type": "code",
   "execution_count": 6,
   "id": "bd2f0b22",
   "metadata": {},
   "outputs": [],
   "source": [
    "df['Actual_Price']=df['Actual_Price'].apply(lambda x: x.split('$')[1])\n",
    "df['Save']=df['Save'].apply(lambda x: x.split('$')[1])\n",
    "df['Current_Price']=df['Current_Price'].apply(lambda x: x.split('$')[1])"
   ]
  },
  {
   "cell_type": "code",
   "execution_count": 7,
   "id": "70a397d8",
   "metadata": {},
   "outputs": [
    {
     "data": {
      "text/html": [
       "<div>\n",
       "<style scoped>\n",
       "    .dataframe tbody tr th:only-of-type {\n",
       "        vertical-align: middle;\n",
       "    }\n",
       "\n",
       "    .dataframe tbody tr th {\n",
       "        vertical-align: top;\n",
       "    }\n",
       "\n",
       "    .dataframe thead th {\n",
       "        text-align: right;\n",
       "    }\n",
       "</style>\n",
       "<table border=\"1\" class=\"dataframe\">\n",
       "  <thead>\n",
       "    <tr style=\"text-align: right;\">\n",
       "      <th></th>\n",
       "      <th>Unnamed: 0</th>\n",
       "      <th>Name_of_Belt</th>\n",
       "      <th>Actual_Price</th>\n",
       "      <th>Save</th>\n",
       "      <th>Current_Price</th>\n",
       "    </tr>\n",
       "  </thead>\n",
       "  <tbody>\n",
       "    <tr>\n",
       "      <th>0</th>\n",
       "      <td>0</td>\n",
       "      <td>WWE Winged Eagle Championship Replica Title Belt</td>\n",
       "      <td>429.99</td>\n",
       "      <td>107.50</td>\n",
       "      <td>322.49</td>\n",
       "    </tr>\n",
       "    <tr>\n",
       "      <th>1</th>\n",
       "      <td>1</td>\n",
       "      <td>WWE World Heavyweight Championship Retro Repli...</td>\n",
       "      <td>429.99</td>\n",
       "      <td>107.50</td>\n",
       "      <td>322.49</td>\n",
       "    </tr>\n",
       "    <tr>\n",
       "      <th>2</th>\n",
       "      <td>2</td>\n",
       "      <td>WWE World Heavyweight Championship Replica Tit...</td>\n",
       "      <td>0</td>\n",
       "      <td>0</td>\n",
       "      <td>499.99</td>\n",
       "    </tr>\n",
       "    <tr>\n",
       "      <th>3</th>\n",
       "      <td>3</td>\n",
       "      <td>WWE Championship Spinner Replica Title Belt</td>\n",
       "      <td>499.99</td>\n",
       "      <td>125.00</td>\n",
       "      <td>374.99</td>\n",
       "    </tr>\n",
       "    <tr>\n",
       "      <th>4</th>\n",
       "      <td>4</td>\n",
       "      <td>WWE Championship Replica Title Belt</td>\n",
       "      <td>449.99</td>\n",
       "      <td>141.25</td>\n",
       "      <td>308.74</td>\n",
       "    </tr>\n",
       "    <tr>\n",
       "      <th>...</th>\n",
       "      <td>...</td>\n",
       "      <td>...</td>\n",
       "      <td>...</td>\n",
       "      <td>...</td>\n",
       "      <td>...</td>\n",
       "    </tr>\n",
       "    <tr>\n",
       "      <th>67</th>\n",
       "      <td>67</td>\n",
       "      <td>Universal Championship Replica Title Belt</td>\n",
       "      <td>429.99</td>\n",
       "      <td>213.40</td>\n",
       "      <td>216.59</td>\n",
       "    </tr>\n",
       "    <tr>\n",
       "      <th>68</th>\n",
       "      <td>68</td>\n",
       "      <td>WWE Championship Spinner Mini Replica Title Belt</td>\n",
       "      <td>69.99</td>\n",
       "      <td>17.50</td>\n",
       "      <td>52.49</td>\n",
       "    </tr>\n",
       "    <tr>\n",
       "      <th>69</th>\n",
       "      <td>69</td>\n",
       "      <td>Boston Red Sox WWE Legacy Title Belt</td>\n",
       "      <td>549.99</td>\n",
       "      <td>137.50</td>\n",
       "      <td>412.49</td>\n",
       "    </tr>\n",
       "    <tr>\n",
       "      <th>70</th>\n",
       "      <td>70</td>\n",
       "      <td>Kane Signature Series Championship Replica Tit...</td>\n",
       "      <td>499.99</td>\n",
       "      <td>189.35</td>\n",
       "      <td>310.64</td>\n",
       "    </tr>\n",
       "    <tr>\n",
       "      <th>71</th>\n",
       "      <td>71</td>\n",
       "      <td>Buffalo Bills WWE Legacy Title Belt</td>\n",
       "      <td>0</td>\n",
       "      <td>0</td>\n",
       "      <td>549.99</td>\n",
       "    </tr>\n",
       "  </tbody>\n",
       "</table>\n",
       "<p>72 rows × 5 columns</p>\n",
       "</div>"
      ],
      "text/plain": [
       "    Unnamed: 0                                       Name_of_Belt  \\\n",
       "0            0   WWE Winged Eagle Championship Replica Title Belt   \n",
       "1            1  WWE World Heavyweight Championship Retro Repli...   \n",
       "2            2  WWE World Heavyweight Championship Replica Tit...   \n",
       "3            3        WWE Championship Spinner Replica Title Belt   \n",
       "4            4                WWE Championship Replica Title Belt   \n",
       "..         ...                                                ...   \n",
       "67          67          Universal Championship Replica Title Belt   \n",
       "68          68   WWE Championship Spinner Mini Replica Title Belt   \n",
       "69          69               Boston Red Sox WWE Legacy Title Belt   \n",
       "70          70  Kane Signature Series Championship Replica Tit...   \n",
       "71          71                Buffalo Bills WWE Legacy Title Belt   \n",
       "\n",
       "   Actual_Price    Save Current_Price  \n",
       "0        429.99  107.50        322.49  \n",
       "1        429.99  107.50        322.49  \n",
       "2             0       0        499.99  \n",
       "3        499.99  125.00        374.99  \n",
       "4        449.99  141.25        308.74  \n",
       "..          ...     ...           ...  \n",
       "67       429.99  213.40        216.59  \n",
       "68        69.99   17.50         52.49  \n",
       "69       549.99  137.50        412.49  \n",
       "70       499.99  189.35        310.64  \n",
       "71            0       0        549.99  \n",
       "\n",
       "[72 rows x 5 columns]"
      ]
     },
     "execution_count": 7,
     "metadata": {},
     "output_type": "execute_result"
    }
   ],
   "source": [
    "df"
   ]
  },
  {
   "cell_type": "code",
   "execution_count": 8,
   "id": "6cc35ed3",
   "metadata": {},
   "outputs": [],
   "source": [
    "df['Current_Price']=df['Current_Price'].astype(float)\n",
    "df['Actual_Price']=df['Actual_Price'].astype(float)\n",
    "df['Save']=df['Save'].astype(float)"
   ]
  },
  {
   "cell_type": "code",
   "execution_count": 10,
   "id": "0d24a394",
   "metadata": {},
   "outputs": [
    {
     "name": "stdout",
     "output_type": "stream",
     "text": [
      "<class 'pandas.core.frame.DataFrame'>\n",
      "RangeIndex: 72 entries, 0 to 71\n",
      "Data columns (total 5 columns):\n",
      " #   Column         Non-Null Count  Dtype  \n",
      "---  ------         --------------  -----  \n",
      " 0   Unnamed: 0     72 non-null     int64  \n",
      " 1   Name_of_Belt   72 non-null     object \n",
      " 2   Actual_Price   72 non-null     float64\n",
      " 3   Save           72 non-null     float64\n",
      " 4   Current_Price  72 non-null     float64\n",
      "dtypes: float64(3), int64(1), object(1)\n",
      "memory usage: 2.9+ KB\n"
     ]
    }
   ],
   "source": [
    "df.info()"
   ]
  },
  {
   "cell_type": "code",
   "execution_count": null,
   "id": "fb02c623",
   "metadata": {},
   "outputs": [],
   "source": []
  },
  {
   "cell_type": "code",
   "execution_count": null,
   "id": "bd3a100d",
   "metadata": {},
   "outputs": [],
   "source": []
  },
  {
   "cell_type": "markdown",
   "id": "bacb73df",
   "metadata": {},
   "source": [
    "## Which is the most expensive belt?"
   ]
  },
  {
   "cell_type": "code",
   "execution_count": 11,
   "id": "5a3cccd2",
   "metadata": {},
   "outputs": [
    {
     "data": {
      "text/plain": [
       "Unnamed: 0                                                  25\n",
       "Name_of_Belt     Shawn Michaels Legacy Championship Title Belt\n",
       "Actual_Price                                            749.99\n",
       "Save                                                     187.5\n",
       "Current_Price                                           562.49\n",
       "Name: 25, dtype: object"
      ]
     },
     "execution_count": 11,
     "metadata": {},
     "output_type": "execute_result"
    }
   ],
   "source": [
    "df.loc[df['Current_Price'].idxmax()]"
   ]
  },
  {
   "cell_type": "markdown",
   "id": "7edf3ca2",
   "metadata": {},
   "source": [
    "## Which belt has the maximum discount rate?"
   ]
  },
  {
   "cell_type": "code",
   "execution_count": 12,
   "id": "a2dc68a9",
   "metadata": {},
   "outputs": [
    {
     "data": {
      "text/plain": [
       "'Universal Championship Replica Title Belt'"
      ]
     },
     "execution_count": 12,
     "metadata": {},
     "output_type": "execute_result"
    }
   ],
   "source": [
    "df['discount_perc']=(df['Save']/df['Actual_Price'])*100\n",
    "\n",
    "df.loc[df['discount_perc'].idxmax()]['Name_of_Belt']"
   ]
  },
  {
   "cell_type": "markdown",
   "id": "2392882b",
   "metadata": {},
   "source": [
    "## Which is the cheapest belt?\n"
   ]
  },
  {
   "cell_type": "code",
   "execution_count": 13,
   "id": "2c9e2d69",
   "metadata": {},
   "outputs": [
    {
     "data": {
      "text/plain": [
       "Unnamed: 0                                  39\n",
       "Name_of_Belt     WWE Championship Title Hanger\n",
       "Actual_Price                             24.99\n",
       "Save                                      6.25\n",
       "Current_Price                            18.74\n",
       "discount_perc                        25.010004\n",
       "Name: 39, dtype: object"
      ]
     },
     "execution_count": 13,
     "metadata": {},
     "output_type": "execute_result"
    }
   ],
   "source": [
    "df.loc[df['Current_Price'].idxmin()]"
   ]
  },
  {
   "cell_type": "markdown",
   "id": "1eed3d81",
   "metadata": {},
   "source": [
    "## What is the average discount percentage?"
   ]
  },
  {
   "cell_type": "code",
   "execution_count": 14,
   "id": "01989853",
   "metadata": {},
   "outputs": [
    {
     "data": {
      "text/plain": [
       "29.83"
      ]
     },
     "execution_count": 14,
     "metadata": {},
     "output_type": "execute_result"
    }
   ],
   "source": [
    "round(df['discount_perc'].mean(),2)"
   ]
  },
  {
   "cell_type": "markdown",
   "id": "1dfa9ca4",
   "metadata": {},
   "source": [
    "## What is the average money saved by discounts?\n"
   ]
  },
  {
   "cell_type": "code",
   "execution_count": 15,
   "id": "546e4683",
   "metadata": {},
   "outputs": [
    {
     "data": {
      "text/plain": [
       "96.45138888888889"
      ]
     },
     "execution_count": 15,
     "metadata": {},
     "output_type": "execute_result"
    }
   ],
   "source": [
    "df['Save'].mean()"
   ]
  },
  {
   "cell_type": "markdown",
   "id": "1d06c4dd",
   "metadata": {},
   "source": [
    "## Which belt has the maximum actual price and current price difference?"
   ]
  },
  {
   "cell_type": "code",
   "execution_count": 16,
   "id": "ff8ecd63",
   "metadata": {},
   "outputs": [
    {
     "data": {
      "text/plain": [
       "Unnamed: 0                                              67\n",
       "Name_of_Belt     Universal Championship Replica Title Belt\n",
       "Actual_Price                                        429.99\n",
       "Save                                                 213.4\n",
       "Current_Price                                       216.59\n",
       "discount_perc                                    49.629061\n",
       "Name: 67, dtype: object"
      ]
     },
     "execution_count": 16,
     "metadata": {},
     "output_type": "execute_result"
    }
   ],
   "source": [
    "df.loc[(df['Actual_Price']-df['Current_Price']).idxmax()]"
   ]
  },
  {
   "cell_type": "code",
   "execution_count": null,
   "id": "89c51e31",
   "metadata": {},
   "outputs": [],
   "source": []
  }
 ],
 "metadata": {
  "kernelspec": {
   "display_name": "Python 3 (ipykernel)",
   "language": "python",
   "name": "python3"
  },
  "language_info": {
   "codemirror_mode": {
    "name": "ipython",
    "version": 3
   },
   "file_extension": ".py",
   "mimetype": "text/x-python",
   "name": "python",
   "nbconvert_exporter": "python",
   "pygments_lexer": "ipython3",
   "version": "3.10.4"
  }
 },
 "nbformat": 4,
 "nbformat_minor": 5
}
