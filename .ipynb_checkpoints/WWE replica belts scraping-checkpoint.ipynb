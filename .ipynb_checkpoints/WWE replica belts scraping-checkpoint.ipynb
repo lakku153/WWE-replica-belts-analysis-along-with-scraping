{
 "cells": [
  {
   "cell_type": "code",
   "execution_count": 4,
   "id": "8ea2039b",
   "metadata": {},
   "outputs": [],
   "source": [
    "import requests\n",
    "from bs4 import BeautifulSoup\n",
    "import pandas as pd"
   ]
  },
  {
   "cell_type": "code",
   "execution_count": 2,
   "id": "dac96f3a",
   "metadata": {},
   "outputs": [],
   "source": [
    "import requests\n",
    "from bs4 import BeautifulSoup\n",
    "\n",
    "headers = {\n",
    "    'User-Agent': 'Mozilla/5.0 (Windows NT 6.3; Win64; x64) AppleWebKit/537.36 (KHTML, like Gecko) Chrome/80.0.3987.162 Safari/537.36'\n",
    "}\n",
    "\n",
    "url = \"https://shop.wwe.com/en/title-belts/d-1206674874+z-996981-3123630157\"\n",
    "\n",
    "response = requests.get(url, headers=headers)\n",
    "soup = BeautifulSoup(response.content, 'html.parser')\n",
    "\n",
    "Name_of_Belt=[]\n",
    "Actual_Price=[]\n",
    "Save=[]\n",
    "Current_Price=[]\n",
    "\n",
    "products = soup.find_all('div', class_='product-card')\n",
    "\n",
    "for product in products:\n",
    "    title_element = product.find('div', class_='product-card-title')\n",
    "    if title_element:\n",
    "        title = title_element.a.text.strip()\n",
    "    else:\n",
    "        title = \"Title Not Found\"\n",
    "    Name_of_Belt.append(title)\n",
    "    price_element = product.find('span', class_='price')\n",
    "    if price_element:\n",
    "        price = price_element.find('span', class_='money-value').text.strip()\n",
    "    else:\n",
    "        price = \"Price Not Found\"\n",
    "    Current_Price.append(price)\n",
    "    savings_element = product.find('span', class_='your-savings')\n",
    "    if savings_element:\n",
    "        savings = savings_element.find('span', class_='money-value').text.strip()\n",
    "    else:\n",
    "        savings = \"Savings Not Found\"\n",
    "    Save.append(savings)\n",
    "    strike_through_element = product.find('span', class_='strike-through')\n",
    "    if strike_through_element:\n",
    "        actual_price = strike_through_element.find('span', class_='money-value').text.strip()\n",
    "    else:\n",
    "        actual_price = \"Actual Price Not Found\"\n",
    "    Actual_Price.append(actual_price)\n",
    "#     print(f\"Title: {title}\")\n",
    "#     print(f\"Price: {price}\")\n",
    "#     print(f\"Savings: {savings}\")\n",
    "#     print(f\"Actual Price: {actual_price}\")\n",
    "#     print(\"\\n\")\n"
   ]
  },
  {
   "cell_type": "code",
   "execution_count": 5,
   "id": "143ae68f",
   "metadata": {},
   "outputs": [],
   "source": [
    "df=pd.DataFrame({\n",
    "    'Name_of_Belt':Name_of_Belt,\n",
    "    'Actual_Price':Actual_Price,\n",
    "    'Save':Save,\n",
    "    'Current_Price':Current_Price\n",
    "})"
   ]
  },
  {
   "cell_type": "code",
   "execution_count": 6,
   "id": "4c1b0671",
   "metadata": {},
   "outputs": [],
   "source": [
    "df.to_csv('wwe belts.csv')"
   ]
  },
  {
   "cell_type": "code",
   "execution_count": null,
   "id": "c623479d",
   "metadata": {},
   "outputs": [],
   "source": []
  }
 ],
 "metadata": {
  "kernelspec": {
   "display_name": "Python 3 (ipykernel)",
   "language": "python",
   "name": "python3"
  },
  "language_info": {
   "codemirror_mode": {
    "name": "ipython",
    "version": 3
   },
   "file_extension": ".py",
   "mimetype": "text/x-python",
   "name": "python",
   "nbconvert_exporter": "python",
   "pygments_lexer": "ipython3",
   "version": "3.10.4"
  }
 },
 "nbformat": 4,
 "nbformat_minor": 5
}
